{
  "nbformat": 4,
  "nbformat_minor": 0,
  "metadata": {
    "colab": {
      "provenance": []
    },
    "kernelspec": {
      "name": "python3",
      "display_name": "Python 3"
    },
    "language_info": {
      "name": "python"
    }
  },
  "cells": [
    {
      "cell_type": "code",
      "source": [
        "#PRÁCTICA NOTACIÓN POLACA INVERSA:\n",
        "# INTEGRANTES:\n",
        "# -Almaraz Hernández María de los Ángeles.\n",
        "# -Aguilar Gomez Yaretzi Guadalupe.\n",
        "# -Pelaez Ventura Rocio.\n",
        "\n",
        "operador = lambda caracter : caracter in {\"+\", \"-\", \"*\", \"/\", \"^\", \"(\", \")\"}\n",
        "    #Permite conocer si un caracter es uno de los siguientes operadores de nuestra linea.\n",
        "    #En especial usamos lambda ya que reduce el tamaño de nuestra función operador.\n",
        "\n",
        "def jerarquia(caracter):\n",
        "    #Permite saber que prioridad se le da a nuestros operadores.\n",
        "\n",
        "    if not operador(caracter):\n",
        "        return 0\n",
        "    elif caracter in {\"+\", \"-\"}:\n",
        "        return 1\n",
        "    elif caracter in {\"*\", \"/\"}:\n",
        "        return 2\n",
        "    elif caracter in {\"^\"}:\n",
        "        return 3\n",
        "    elif caracter in {\"(\", \")\"}:\n",
        "        return 4\n",
        "\n",
        "def asocia_derecha(caracter):\n",
        "    #Nos ayuda a que este operador \"^\" se opere de derecha a izquierda.\n",
        "    return caracter == \"^\"\n",
        "\n",
        "\n",
        "if __name__ == \"__main__\":\n",
        "\n",
        "    pila = []\n",
        "    salida = \"\"\n",
        "        #Creamos una pila y una salida tipo str.\n",
        "\n",
        "    entrada = input(\"Bienvenido, por favor escriba una expresión algebraica: \")\n",
        "        #creamos nuestro input.\n",
        "\n",
        "    entrada = entrada.replace('**', '^')\n",
        "        #Nos ayudará a que podamos sustituir \"**\"\" por \"^\", esto para simplificar el codigo.\n",
        "\n",
        "\n",
        "    #Creamos un ciclo for para poder ir iterando sobre la entrada.\n",
        "    for caracter in entrada:\n",
        "        #Le damos instrucción de que si es un digito entonces se agrege a la salida.\n",
        "        if not operador(caracter):\n",
        "            salida += caracter\n",
        "        #Caso contrario damos las instrucciones a cumplir si es un operador o un parentesis.\n",
        "        elif caracter in{'+', '-', '*', '/', '^', '(', ')'}:\n",
        "            if caracter in {'+', '-', '*', '/', '^'}:\n",
        "                #Mientras se cumplan las primeras condiciones y no haya \"(\".\n",
        "                while (len(pila) and (jerarquia(pila[-1]) >= jerarquia(caracter)) and not asocia_derecha(caracter) and pila[-1] != '('):\n",
        "                    salida += (pila.pop())\n",
        "                pila.append(caracter)\n",
        "            #Ahora bien, si el caracter es igual a \"(\" entonces se agrega a la pila.\n",
        "            elif caracter == '(':\n",
        "                pila.append(caracter)\n",
        "            #Si sucede que el caracter es igual a \")\".\n",
        "            elif caracter == ')':\n",
        "                #Entonces mientras no haya otro parentesis izquierdo se van a agregar los operadores a la salida.\n",
        "                while (len(pila) and pila[-1] not in{'('}):\n",
        "                    salida += (pila.pop())\n",
        "                #Van saliendo los operadores de la pila.\n",
        "                pila.pop()\n",
        "\n",
        "    #Ciclo para poder terminar de sacar los operadores que hay en la pila.\n",
        "    while pila:\n",
        "        salida += (pila.pop())\n",
        "\n",
        "\n",
        "    salida = salida.replace('^', '** ')\n",
        "        #Reemplazamos ^ por **.\n",
        "\n",
        "\n",
        "    print(f\"La notación polaca inversa de su expresión algebrica es: {salida}\")"
      ],
      "metadata": {
        "id": "VrvG9J-kom6u",
        "colab": {
          "base_uri": "https://localhost:8080/"
        },
        "outputId": "6ab4a973-a65a-4ce8-e45b-c653de512b82"
      },
      "execution_count": 3,
      "outputs": [
        {
          "output_type": "stream",
          "name": "stdout",
          "text": [
            "Bienvenido, por favor escriba una expresión algebraica: 3 * ( 1 + 3 ) ** 2\n",
            "La notación polaca inversa de su expresión algebrica es: 3   1  3 +  2** *\n"
          ]
        }
      ]
    },
    {
      "cell_type": "code",
      "source": [
        "archivo_practica1 = open(\"practica1.txt\",'w')\n",
        "\n",
        "archivo_practica1.write(\"\"\"\n",
        " PRACTICA NOTACIÓN POLACA INVERSA:\n",
        " INTEGRANTES:\n",
        " -Almaraz Hérnandez María de los Ángeles\n",
        " -Aguilar Gomez Yaretzi Guadalupe\n",
        " -Pelaez Ventura Rocio\n",
        "\n",
        " Paso 1 = Definimos nuestras funciones:\n",
        "\n",
        " - Definimos nuestros operadores.\n",
        " - Definimos la jerarquia que se le va a dar.\n",
        "\n",
        " - Como la potencia se lee de izquierda a derecha, la voltearemos con asociatividad.\n",
        "\n",
        " - Creamos nustras variables vacias, pila es para nuestros operadores\n",
        " - salida es para nuestra expresion final.\n",
        "\n",
        " - Creamos nuestro input.\n",
        "\n",
        " - Y sustituimos nuestro \"**\"\n",
        "\n",
        " Paso 2 = if __name__ == \"__main__\":\n",
        "  - Creamos un ciclo for para poder ir iterando sobre la entrada\n",
        "  - Le damos instrucción de que si es un digito entonces se agrege a la salida\n",
        "  - Caso contrario damos las instrucciones a cumplir si es un operador o un parentesis\n",
        "  - Mientras se cumplan las primeras condiciones y no haya \"(\"\n",
        "  - Ahora bien, si el caracter es igual a \"(\" entonces se agrega a la pila\n",
        "  - Si sucede que el caracter es igual a \")\"\n",
        "  - Entonces mientras no haya otro parentesis izquierdo se van a agregar los operadores a la salida\n",
        "  - Van saliendo los operadores de la pila\n",
        "\n",
        "  - Ciclo para poder terminar de sacar los operadores que hay en la pila\n",
        "\n",
        "  - Reemplazamos ^ por **:\n",
        "  - Imprimimos resultado.\n",
        "\n",
        "  Con esto documentado podemos decir que el programa siguio el algoritmo y por lo\n",
        "  tanto se ejecutó de buena forma.\"\"\"\n",
        "  )\n",
        "archivo_practica1.close()"
      ],
      "metadata": {
        "id": "a81HR3tjfPAE"
      },
      "execution_count": null,
      "outputs": []
    },
    {
      "cell_type": "code",
      "source": [
        "archivo_practica1 = open(\"practica1.txt\",'r')\n",
        "\n",
        "print(archivo_practica1.read())\n",
        "\n",
        "archivo_practica1.close()"
      ],
      "metadata": {
        "colab": {
          "base_uri": "https://localhost:8080/"
        },
        "id": "3c9hGenKj37-",
        "outputId": "9df3735e-4018-4603-cfb0-f99989acc765"
      },
      "execution_count": null,
      "outputs": [
        {
          "output_type": "stream",
          "name": "stdout",
          "text": [
            "\n",
            " PRACTICA NOTACIÓN POLACA INVERSA:\n",
            " INTEGRANTES:\n",
            " -Almaraz Hérnandez María de los Ángeles\n",
            " -Aguilar Gomez Yaretzi Guadalupe\n",
            " -Pelaez Ventura Rocio\n",
            "\n",
            " Paso 1 = Definimos nuestras funciones:\n",
            "\n",
            " - Definimos nuestros operadores.\n",
            " - Definimos la jerarquia que se le va a dar.\n",
            "\n",
            " - Como la potencia se lee de izquierda a derecha, la voltearemos con asociatividad.\n",
            "\n",
            " - Creamos nustras variables vacias, pila es para nuestros operadores\n",
            " - salida es para nuestra expresion final.\n",
            "\n",
            " - Creamos nuestro input.\n",
            "\n",
            " - Y sustituimos nuestro \"**\"\n",
            "\n",
            " Paso 2 = if __name__ == \"__main__\":\n",
            "  - Creamos un ciclo for para poder ir iterando sobre la entrada\n",
            "  - Le damos instrucción de que si es un digito entonces se agrege a la salida\n",
            "  - Caso contrario damos las instrucciones a cumplir si es un operador o un parentesis\n",
            "  - Mientras se cumplan las primeras condiciones y no haya \"(\"\n",
            "  - Ahora bien, si el caracter es igual a \"(\" entonces se agrega a la pila\n",
            "  - Si sucede que el caracter es igual a \")\"\n",
            "  - Entonces mientras no haya otro parentesis izquierdo se van a agregar los operadores a la salida\n",
            "  - Van saliendo los operadores de la pila\n",
            "\n",
            "  - Ciclo para poder terminar de sacar los operadores que hay en la pila\n",
            "\n",
            "  - Reemplazamos ^ por **:\n",
            "  - Imprimimos resultado. \n",
            "  \n",
            "  Con esto documentado podemos decir que el programa siguio el algoritmo y por lo\n",
            "  tanto se ejecutó de buena forma.\n"
          ]
        }
      ]
    }
  ]
}